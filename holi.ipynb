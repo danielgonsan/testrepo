{
 "cells": [
  {
   "cell_type": "markdown",
   "id": "01f7cb83-cebd-44fe-9f95-4ab936d8155e",
   "metadata": {},
   "source": [
    "### Holiiiii\n"
   ]
  },
  {
   "cell_type": "code",
   "execution_count": null,
   "id": "82e2d909-166b-4ca1-8260-568beb03a380",
   "metadata": {},
   "outputs": [],
   "source": []
  }
 ],
 "metadata": {
  "kernelspec": {
   "display_name": "Python 3 (ipykernel)",
   "language": "python",
   "name": "python3"
  },
  "language_info": {
   "codemirror_mode": {
    "name": "ipython",
    "version": 3
   },
   "file_extension": ".py",
   "mimetype": "text/x-python",
   "name": "python",
   "nbconvert_exporter": "python",
   "pygments_lexer": "ipython3",
   "version": "3.9.7"
  }
 },
 "nbformat": 4,
 "nbformat_minor": 5
}
